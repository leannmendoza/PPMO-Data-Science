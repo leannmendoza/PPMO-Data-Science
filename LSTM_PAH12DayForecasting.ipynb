{
 "cells": [
  {
   "cell_type": "markdown",
   "metadata": {},
   "source": [
    "# Forecasting Project Volatility: Utilizing Long Short Term Memory networks to forecast flow of project volatility with high accuracy\n",
    "\n",
    "Author: @leannmendoza\n",
    "\n",
    "Source: https://stackabuse.com/time-series-prediction-using-lstm-with-pytorch-in-python/"
   ]
  },
  {
   "cell_type": "code",
   "execution_count": 1,
   "metadata": {},
   "outputs": [],
   "source": [
    "import torch\n",
    "import torch.nn as nn\n",
    "import numpy as np\n",
    "import pandas as pd\n",
    "import matplotlib.pyplot as plt\n",
    "from datetime import datetime, timedelta\n",
    "from matplotlib import pyplot as plt\n",
    "from matplotlib import dates as mpl_dates\n",
    "\n",
    "%matplotlib inline\n",
    "plt.style.use('seaborn')"
   ]
  },
  {
   "cell_type": "code",
   "execution_count": 2,
   "metadata": {},
   "outputs": [],
   "source": [
    "# Redacted info for github upload for confidentiality purposes\n",
    "proj_stat_detail_view = ''\n",
    "project_name_specific = ''"
   ]
  },
  {
   "cell_type": "code",
   "execution_count": 3,
   "metadata": {},
   "outputs": [
    {
     "data": {
      "text/plain": [
       "(136921, 159)"
      ]
     },
     "execution_count": 3,
     "metadata": {},
     "output_type": "execute_result"
    }
   ],
   "source": [
    "#read in csv file\n",
    "main_df = pd.read_csv(proj_stat_detail_view,dtype=object)\n",
    "main_df.columns = [c.replace(' ', '_') for c in main_df.columns]\n",
    "main_df.shape"
   ]
  },
  {
   "cell_type": "markdown",
   "metadata": {},
   "source": [
    "## 1. Data Cleanup & Preprocessing\n",
    "Cleaning up data to reflect one specific project (project_name_specific) for input into the forecasting model"
   ]
  },
  {
   "cell_type": "code",
   "execution_count": 4,
   "metadata": {},
   "outputs": [
    {
     "data": {
      "text/plain": [
       "(459, 159)"
      ]
     },
     "execution_count": 4,
     "metadata": {},
     "output_type": "execute_result"
    }
   ],
   "source": [
    "#create df with only project_name_specific data\n",
    "project_df = main_df[main_df.Project_Long_Name == project_name_specific]\n",
    "project_df.shape"
   ]
  },
  {
   "cell_type": "code",
   "execution_count": 5,
   "metadata": {},
   "outputs": [
    {
     "data": {
      "text/html": [
       "<div>\n",
       "<style scoped>\n",
       "    .dataframe tbody tr th:only-of-type {\n",
       "        vertical-align: middle;\n",
       "    }\n",
       "\n",
       "    .dataframe tbody tr th {\n",
       "        vertical-align: top;\n",
       "    }\n",
       "\n",
       "    .dataframe thead th {\n",
       "        text-align: right;\n",
       "    }\n",
       "</style>\n",
       "<table border=\"1\" class=\"dataframe\">\n",
       "  <thead>\n",
       "    <tr style=\"text-align: right;\">\n",
       "      <th></th>\n",
       "      <th>Project_Statistic_Date</th>\n",
       "      <th>Project_Task_Closed_Est_Act_V1</th>\n",
       "      <th>Project_Task_Estimate_Change_V2</th>\n",
       "      <th>Project_Task_Date_Est_Act_V3</th>\n",
       "      <th>Project_Task_Date_Change_V4</th>\n",
       "      <th>Project_Task_Procrastination_V5</th>\n",
       "      <th>Project_Milestone_Date_Est_Act_V6</th>\n",
       "      <th>Project_Milestone_Date_Change_V7</th>\n",
       "      <th>Project_Worklog_Entry_Actual_V8</th>\n",
       "    </tr>\n",
       "  </thead>\n",
       "  <tbody>\n",
       "    <tr>\n",
       "      <th>135252</th>\n",
       "      <td>12/9/2018</td>\n",
       "      <td>0.000000</td>\n",
       "      <td>0.000000</td>\n",
       "      <td>0.000000</td>\n",
       "      <td>0.000000</td>\n",
       "      <td>0.000000</td>\n",
       "      <td>0.0</td>\n",
       "      <td>0.0</td>\n",
       "      <td>5.166667</td>\n",
       "    </tr>\n",
       "    <tr>\n",
       "      <th>135253</th>\n",
       "      <td>12/8/2018</td>\n",
       "      <td>0.000000</td>\n",
       "      <td>0.000000</td>\n",
       "      <td>0.000000</td>\n",
       "      <td>0.000000</td>\n",
       "      <td>0.000000</td>\n",
       "      <td>0.0</td>\n",
       "      <td>0.0</td>\n",
       "      <td>5.166667</td>\n",
       "    </tr>\n",
       "    <tr>\n",
       "      <th>135254</th>\n",
       "      <td>12/5/2018</td>\n",
       "      <td>0.000000</td>\n",
       "      <td>0.000000</td>\n",
       "      <td>0.000000</td>\n",
       "      <td>0.000000</td>\n",
       "      <td>0.000000</td>\n",
       "      <td>0.0</td>\n",
       "      <td>0.0</td>\n",
       "      <td>0.000000</td>\n",
       "    </tr>\n",
       "    <tr>\n",
       "      <th>135255</th>\n",
       "      <td>12/4/2018</td>\n",
       "      <td>0.000000</td>\n",
       "      <td>0.000000</td>\n",
       "      <td>0.000000</td>\n",
       "      <td>0.000000</td>\n",
       "      <td>0.000000</td>\n",
       "      <td>0.0</td>\n",
       "      <td>0.0</td>\n",
       "      <td>0.000000</td>\n",
       "    </tr>\n",
       "    <tr>\n",
       "      <th>135256</th>\n",
       "      <td>12/6/2018</td>\n",
       "      <td>0.000000</td>\n",
       "      <td>0.000000</td>\n",
       "      <td>0.000000</td>\n",
       "      <td>0.000000</td>\n",
       "      <td>0.000000</td>\n",
       "      <td>0.0</td>\n",
       "      <td>0.0</td>\n",
       "      <td>0.000000</td>\n",
       "    </tr>\n",
       "    <tr>\n",
       "      <th>...</th>\n",
       "      <td>...</td>\n",
       "      <td>...</td>\n",
       "      <td>...</td>\n",
       "      <td>...</td>\n",
       "      <td>...</td>\n",
       "      <td>...</td>\n",
       "      <td>...</td>\n",
       "      <td>...</td>\n",
       "      <td>...</td>\n",
       "    </tr>\n",
       "    <tr>\n",
       "      <th>135706</th>\n",
       "      <td>4/26/2019</td>\n",
       "      <td>164.966668</td>\n",
       "      <td>290.111111</td>\n",
       "      <td>542.947368</td>\n",
       "      <td>1381.231481</td>\n",
       "      <td>52.346186</td>\n",
       "      <td>0.0</td>\n",
       "      <td>0.0</td>\n",
       "      <td>33.025210</td>\n",
       "    </tr>\n",
       "    <tr>\n",
       "      <th>135707</th>\n",
       "      <td>3/20/2019</td>\n",
       "      <td>146.534968</td>\n",
       "      <td>547.428571</td>\n",
       "      <td>791.111111</td>\n",
       "      <td>1864.928571</td>\n",
       "      <td>67.997206</td>\n",
       "      <td>0.0</td>\n",
       "      <td>0.0</td>\n",
       "      <td>73.745098</td>\n",
       "    </tr>\n",
       "    <tr>\n",
       "      <th>135708</th>\n",
       "      <td>4/11/2019</td>\n",
       "      <td>205.474591</td>\n",
       "      <td>384.911392</td>\n",
       "      <td>649.862745</td>\n",
       "      <td>1878.860759</td>\n",
       "      <td>56.123032</td>\n",
       "      <td>0.0</td>\n",
       "      <td>0.0</td>\n",
       "      <td>46.878049</td>\n",
       "    </tr>\n",
       "    <tr>\n",
       "      <th>135709</th>\n",
       "      <td>11/6/2019</td>\n",
       "      <td>104.689073</td>\n",
       "      <td>142.659898</td>\n",
       "      <td>333226.029167</td>\n",
       "      <td>318116.063452</td>\n",
       "      <td>47.889666</td>\n",
       "      <td>0.0</td>\n",
       "      <td>0.0</td>\n",
       "      <td>24.710588</td>\n",
       "    </tr>\n",
       "    <tr>\n",
       "      <th>135710</th>\n",
       "      <td>5/31/2019</td>\n",
       "      <td>127.241487</td>\n",
       "      <td>239.955414</td>\n",
       "      <td>523017.531707</td>\n",
       "      <td>1155.025478</td>\n",
       "      <td>47.067985</td>\n",
       "      <td>0.0</td>\n",
       "      <td>0.0</td>\n",
       "      <td>25.653631</td>\n",
       "    </tr>\n",
       "  </tbody>\n",
       "</table>\n",
       "<p>459 rows × 9 columns</p>\n",
       "</div>"
      ],
      "text/plain": [
       "       Project_Statistic_Date  Project_Task_Closed_Est_Act_V1  \\\n",
       "135252              12/9/2018                        0.000000   \n",
       "135253              12/8/2018                        0.000000   \n",
       "135254              12/5/2018                        0.000000   \n",
       "135255              12/4/2018                        0.000000   \n",
       "135256              12/6/2018                        0.000000   \n",
       "...                       ...                             ...   \n",
       "135706              4/26/2019                      164.966668   \n",
       "135707              3/20/2019                      146.534968   \n",
       "135708              4/11/2019                      205.474591   \n",
       "135709              11/6/2019                      104.689073   \n",
       "135710              5/31/2019                      127.241487   \n",
       "\n",
       "        Project_Task_Estimate_Change_V2  Project_Task_Date_Est_Act_V3  \\\n",
       "135252                         0.000000                      0.000000   \n",
       "135253                         0.000000                      0.000000   \n",
       "135254                         0.000000                      0.000000   \n",
       "135255                         0.000000                      0.000000   \n",
       "135256                         0.000000                      0.000000   \n",
       "...                                 ...                           ...   \n",
       "135706                       290.111111                    542.947368   \n",
       "135707                       547.428571                    791.111111   \n",
       "135708                       384.911392                    649.862745   \n",
       "135709                       142.659898                 333226.029167   \n",
       "135710                       239.955414                 523017.531707   \n",
       "\n",
       "        Project_Task_Date_Change_V4  Project_Task_Procrastination_V5  \\\n",
       "135252                     0.000000                         0.000000   \n",
       "135253                     0.000000                         0.000000   \n",
       "135254                     0.000000                         0.000000   \n",
       "135255                     0.000000                         0.000000   \n",
       "135256                     0.000000                         0.000000   \n",
       "...                             ...                              ...   \n",
       "135706                  1381.231481                        52.346186   \n",
       "135707                  1864.928571                        67.997206   \n",
       "135708                  1878.860759                        56.123032   \n",
       "135709                318116.063452                        47.889666   \n",
       "135710                  1155.025478                        47.067985   \n",
       "\n",
       "        Project_Milestone_Date_Est_Act_V6  Project_Milestone_Date_Change_V7  \\\n",
       "135252                                0.0                               0.0   \n",
       "135253                                0.0                               0.0   \n",
       "135254                                0.0                               0.0   \n",
       "135255                                0.0                               0.0   \n",
       "135256                                0.0                               0.0   \n",
       "...                                   ...                               ...   \n",
       "135706                                0.0                               0.0   \n",
       "135707                                0.0                               0.0   \n",
       "135708                                0.0                               0.0   \n",
       "135709                                0.0                               0.0   \n",
       "135710                                0.0                               0.0   \n",
       "\n",
       "        Project_Worklog_Entry_Actual_V8  \n",
       "135252                         5.166667  \n",
       "135253                         5.166667  \n",
       "135254                         0.000000  \n",
       "135255                         0.000000  \n",
       "135256                         0.000000  \n",
       "...                                 ...  \n",
       "135706                        33.025210  \n",
       "135707                        73.745098  \n",
       "135708                        46.878049  \n",
       "135709                        24.710588  \n",
       "135710                        25.653631  \n",
       "\n",
       "[459 rows x 9 columns]"
      ]
     },
     "execution_count": 5,
     "metadata": {},
     "output_type": "execute_result"
    }
   ],
   "source": [
    "#Picking only features we'd like to forecast - since we are predicting volatility scores we choose V scores\n",
    "volatility_scores_df = project_df[[\"Project_Statistic_Date\", \"Project_Task_Closed_Est_Act_V1\",\"Project_Task_Estimate_Change_V2\",\"Project_Task_Date_Est_Act_V3\",\"Project_Task_Date_Change_V4\", \"Project_Task_Procrastination_V5\",\"Project_Milestone_Date_Est_Act_V6\",\"Project_Milestone_Date_Change_V7\",\"Project_Worklog_Entry_Actual_V8\"]].copy()\n",
    "volatility_scores_df[[\"Project_Task_Closed_Est_Act_V1\",\"Project_Task_Estimate_Change_V2\",\"Project_Task_Date_Est_Act_V3\",\"Project_Task_Date_Change_V4\", \"Project_Task_Procrastination_V5\",\"Project_Milestone_Date_Est_Act_V6\",\"Project_Milestone_Date_Change_V7\",\"Project_Worklog_Entry_Actual_V8\"]] = volatility_scores_df[[\"Project_Task_Closed_Est_Act_V1\",\"Project_Task_Estimate_Change_V2\",\"Project_Task_Date_Est_Act_V3\",\"Project_Task_Date_Change_V4\", \"Project_Task_Procrastination_V5\",\"Project_Milestone_Date_Est_Act_V6\",\"Project_Milestone_Date_Change_V7\",\"Project_Worklog_Entry_Actual_V8\"]].apply(pd.to_numeric)\n",
    "volatility_scores_df[['Project_Statistic_Date']].apply(pd.to_datetime)\n",
    "volatility_scores_df = volatility_scores_df.fillna(0) #fill na with 0 indicates no change from 0 \n",
    "volatility_scores_df"
   ]
  },
  {
   "cell_type": "code",
   "execution_count": 6,
   "metadata": {},
   "outputs": [
    {
     "name": "stderr",
     "output_type": "stream",
     "text": [
      "/Users/l9mendoza/opt/anaconda3/lib/python3.7/site-packages/ipykernel_launcher.py:3: SettingWithCopyWarning: \n",
      "A value is trying to be set on a copy of a slice from a DataFrame.\n",
      "Try using .loc[row_indexer,col_indexer] = value instead\n",
      "\n",
      "See the caveats in the documentation: https://pandas.pydata.org/pandas-docs/stable/user_guide/indexing.html#returning-a-view-versus-a-copy\n",
      "  This is separate from the ipykernel package so we can avoid doing imports until\n"
     ]
    },
    {
     "data": {
      "text/html": [
       "<div>\n",
       "<style scoped>\n",
       "    .dataframe tbody tr th:only-of-type {\n",
       "        vertical-align: middle;\n",
       "    }\n",
       "\n",
       "    .dataframe tbody tr th {\n",
       "        vertical-align: top;\n",
       "    }\n",
       "\n",
       "    .dataframe thead th {\n",
       "        text-align: right;\n",
       "    }\n",
       "</style>\n",
       "<table border=\"1\" class=\"dataframe\">\n",
       "  <thead>\n",
       "    <tr style=\"text-align: right;\">\n",
       "      <th></th>\n",
       "      <th>Project_Statistic_Date</th>\n",
       "      <th>Project_Task_Closed_Est_Act_V1</th>\n",
       "    </tr>\n",
       "  </thead>\n",
       "  <tbody>\n",
       "    <tr>\n",
       "      <th>135386</th>\n",
       "      <td>2018-10-25</td>\n",
       "      <td>0.000000</td>\n",
       "    </tr>\n",
       "    <tr>\n",
       "      <th>135434</th>\n",
       "      <td>2018-12-03</td>\n",
       "      <td>0.000000</td>\n",
       "    </tr>\n",
       "    <tr>\n",
       "      <th>135255</th>\n",
       "      <td>2018-12-04</td>\n",
       "      <td>0.000000</td>\n",
       "    </tr>\n",
       "    <tr>\n",
       "      <th>135254</th>\n",
       "      <td>2018-12-05</td>\n",
       "      <td>0.000000</td>\n",
       "    </tr>\n",
       "    <tr>\n",
       "      <th>135256</th>\n",
       "      <td>2018-12-06</td>\n",
       "      <td>0.000000</td>\n",
       "    </tr>\n",
       "    <tr>\n",
       "      <th>...</th>\n",
       "      <td>...</td>\n",
       "      <td>...</td>\n",
       "    </tr>\n",
       "    <tr>\n",
       "      <th>135351</th>\n",
       "      <td>2020-02-29</td>\n",
       "      <td>104.855584</td>\n",
       "    </tr>\n",
       "    <tr>\n",
       "      <th>135438</th>\n",
       "      <td>2020-03-01</td>\n",
       "      <td>104.855584</td>\n",
       "    </tr>\n",
       "    <tr>\n",
       "      <th>135488</th>\n",
       "      <td>2020-03-02</td>\n",
       "      <td>104.855584</td>\n",
       "    </tr>\n",
       "    <tr>\n",
       "      <th>135352</th>\n",
       "      <td>2020-03-03</td>\n",
       "      <td>104.855584</td>\n",
       "    </tr>\n",
       "    <tr>\n",
       "      <th>135479</th>\n",
       "      <td>2020-03-04</td>\n",
       "      <td>104.855584</td>\n",
       "    </tr>\n",
       "  </tbody>\n",
       "</table>\n",
       "<p>459 rows × 2 columns</p>\n",
       "</div>"
      ],
      "text/plain": [
       "       Project_Statistic_Date  Project_Task_Closed_Est_Act_V1\n",
       "135386             2018-10-25                        0.000000\n",
       "135434             2018-12-03                        0.000000\n",
       "135255             2018-12-04                        0.000000\n",
       "135254             2018-12-05                        0.000000\n",
       "135256             2018-12-06                        0.000000\n",
       "...                       ...                             ...\n",
       "135351             2020-02-29                      104.855584\n",
       "135438             2020-03-01                      104.855584\n",
       "135488             2020-03-02                      104.855584\n",
       "135352             2020-03-03                      104.855584\n",
       "135479             2020-03-04                      104.855584\n",
       "\n",
       "[459 rows x 2 columns]"
      ]
     },
     "execution_count": 6,
     "metadata": {},
     "output_type": "execute_result"
    }
   ],
   "source": [
    "# Isolating single V score to predict on ex) v1\n",
    "V1_df = volatility_scores_df[[\"Project_Statistic_Date\", \"Project_Task_Closed_Est_Act_V1\"]]\n",
    "V1_df[\"Project_Statistic_Date\"]=pd.to_datetime(V1_df[\"Project_Statistic_Date\"].astype(str), format='%m/%d/%Y')\n",
    "\n",
    "V1_df = V1_df.sort_values(by=\"Project_Statistic_Date\",ascending=True)\n",
    "V1_df"
   ]
  },
  {
   "cell_type": "code",
   "execution_count": 7,
   "metadata": {},
   "outputs": [
    {
     "data": {
      "image/png": "[encoded data removed]",
      "text/plain": [
       "<Figure size 2880x1080 with 1 Axes>"
      ]
     },
     "metadata": {},
     "output_type": "display_data"
    }
   ],
   "source": [
    "#Plot V1\n",
    "plt.figure(1, figsize=(40, 15))\n",
    "plt.plot_date(x=V1_df[\"Project_Statistic_Date\"], y=V1_df[\"Project_Task_Closed_Est_Act_V1\"],fmt=\"r-\")\n",
    "plt.title(\"V1 by Project Statistic Date\")\n",
    "plt.xlabel(\"Project Statistic Date\")\n",
    "plt.ylabel(\"V1 Score\")\n",
    "plt.grid(True)\n",
    "plt.show()"
   ]
  },
  {
   "cell_type": "code",
   "execution_count": 8,
   "metadata": {},
   "outputs": [
    {
     "data": {
      "text/plain": [
       "dtype('float64')"
      ]
     },
     "execution_count": 8,
     "metadata": {},
     "output_type": "execute_result"
    }
   ],
   "source": [
    "V1_df['Project_Task_Closed_Est_Act_V1'].dtype"
   ]
  },
  {
   "cell_type": "code",
   "execution_count": 9,
   "metadata": {},
   "outputs": [
    {
     "name": "stdout",
     "output_type": "stream",
     "text": [
      "len training data:  447\n",
      "len testing data:  12\n"
     ]
    }
   ],
   "source": [
    "# Split data into testing and training\n",
    "test_data_size = 12 # we want to predict final 12 days\n",
    "\n",
    "# divide out dataset into training and test sets\n",
    "V1_values = V1_df['Project_Task_Closed_Est_Act_V1'].values\n",
    "train_data = V1_values[:-test_data_size]\n",
    "test_data = V1_values[-test_data_size:]\n",
    "print('len training data: ',len(train_data))\n",
    "print('len testing data: ',len(test_data))"
   ]
  },
  {
   "cell_type": "code",
   "execution_count": 10,
   "metadata": {},
   "outputs": [
    {
     "name": "stdout",
     "output_type": "stream",
     "text": [
      "[[-1.]\n",
      " [-1.]\n",
      " [-1.]\n",
      " [-1.]\n",
      " [-1.]]\n",
      "[[-0.21593249]\n",
      " [-0.21593249]\n",
      " [-0.21725515]\n",
      " [-0.21725515]\n",
      " [-0.21725515]]\n"
     ]
    }
   ],
   "source": [
    "# pre-processing the data: normalization \n",
    "from sklearn.preprocessing import MinMaxScaler\n",
    "\n",
    "scaler = MinMaxScaler(feature_range=(-1,1))\n",
    "train_data_normalized = scaler.fit_transform(train_data.reshape(-1,1))\n",
    "print(train_data_normalized[:5])\n",
    "print(train_data_normalized[-5:])"
   ]
  },
  {
   "cell_type": "code",
   "execution_count": 11,
   "metadata": {},
   "outputs": [],
   "source": [
    "# convert data into tensors\n",
    "train_data_normalized = torch.FloatTensor(train_data_normalized).view(-1)\n",
    "train_window = 12"
   ]
  },
  {
   "cell_type": "code",
   "execution_count": 12,
   "metadata": {},
   "outputs": [],
   "source": [
    "'''\n",
    "create_inout_sequence\n",
    "\n",
    "accept raw input data and will return a list of tuples\n",
    "1) a list of 12 ites corresponding\n",
    "to the number of passengers traveling in 12 months\n",
    "2) one item i.e. the number of passengers in the 12+1st month\n",
    "'''\n",
    "def create_inout_sequences(input_data, tw):\n",
    "    inout_seq = []\n",
    "    L = len(input_data)\n",
    "    for i in range(L-tw):\n",
    "        train_seq = input_data[i:i+tw]\n",
    "        train_label = input_data[i+tw:i+tw+1]\n",
    "        inout_seq.append((train_seq ,train_label))\n",
    "    return inout_seq"
   ]
  },
  {
   "cell_type": "code",
   "execution_count": 13,
   "metadata": {},
   "outputs": [
    {
     "name": "stdout",
     "output_type": "stream",
     "text": [
      "435\n"
     ]
    },
    {
     "data": {
      "text/plain": [
       "[(tensor([-1.0000, -1.0000, -1.0000, -1.0000, -1.0000, -1.0000, -1.0000, -1.0000,\n",
       "          -1.0000, -1.0000, -1.0000, -0.5222]),\n",
       "  tensor([-0.5222])),\n",
       " (tensor([-1.0000, -1.0000, -1.0000, -1.0000, -1.0000, -1.0000, -1.0000, -1.0000,\n",
       "          -1.0000, -1.0000, -0.5222, -0.5222]),\n",
       "  tensor([-0.4884])),\n",
       " (tensor([-1.0000, -1.0000, -1.0000, -1.0000, -1.0000, -1.0000, -1.0000, -1.0000,\n",
       "          -1.0000, -0.5222, -0.5222, -0.4884]),\n",
       "  tensor([-0.4884])),\n",
       " (tensor([-1.0000, -1.0000, -1.0000, -1.0000, -1.0000, -1.0000, -1.0000, -1.0000,\n",
       "          -0.5222, -0.5222, -0.4884, -0.4884]),\n",
       "  tensor([-0.6063])),\n",
       " (tensor([-1.0000, -1.0000, -1.0000, -1.0000, -1.0000, -1.0000, -1.0000, -0.5222,\n",
       "          -0.5222, -0.4884, -0.4884, -0.6063]),\n",
       "  tensor([-0.6063]))]"
      ]
     },
     "execution_count": 13,
     "metadata": {},
     "output_type": "execute_result"
    }
   ],
   "source": [
    "train_inout_seq = create_inout_sequences(train_data_normalized, train_window)\n",
    "print(len(train_inout_seq))\n",
    "train_inout_seq[:5]"
   ]
  },
  {
   "cell_type": "markdown",
   "metadata": {},
   "source": [
    "## 2. Model Implementation\n",
    "Implement LSTM model on Volatility Data"
   ]
  },
  {
   "cell_type": "code",
   "execution_count": 14,
   "metadata": {},
   "outputs": [],
   "source": [
    "'''\n",
    "Create LSTM Model\n",
    "\n",
    "* input_size: Corresponds to the number of features in the input. \n",
    "    Though our sequence length is 12, for each month we have only 1 value\n",
    "    i.e. total number of passengers, therefore the input size will be 1.\n",
    "* hidden_layer_size: Specifies the number of hidden layers along with the \n",
    "    number of neurons in each layer. We will have one layer of 100 neurons.\n",
    "* output_size: The number of items in the output, since we want to predict \n",
    "    the number of passengers for 1 month in the future, the output size \n",
    "    will be 1.\n",
    "'''\n",
    "class LSTM(nn.Module):\n",
    "    def __init__(self, input_size=1, hidden_layer_size=100, output_size=1):\n",
    "        super().__init__()\n",
    "        self.hidden_layer_size = hidden_layer_size\n",
    "\n",
    "        self.lstm = nn.LSTM(input_size, hidden_layer_size)\n",
    "\n",
    "        self.linear = nn.Linear(hidden_layer_size, output_size)\n",
    "\n",
    "        self.hidden_cell = (torch.zeros(1,1,self.hidden_layer_size),\n",
    "                            torch.zeros(1,1,self.hidden_layer_size))\n",
    "\n",
    "    def forward(self, input_seq):\n",
    "        lstm_out, self.hidden_cell = self.lstm(input_seq.view(len(input_seq) ,1, -1), self.hidden_cell)\n",
    "        predictions = self.linear(lstm_out.view(len(input_seq), -1))\n",
    "        return predictions[-1]"
   ]
  },
  {
   "cell_type": "code",
   "execution_count": 15,
   "metadata": {},
   "outputs": [
    {
     "name": "stdout",
     "output_type": "stream",
     "text": [
      "LSTM(\n",
      "  (lstm): LSTM(1, 100)\n",
      "  (linear): Linear(in_features=100, out_features=1, bias=True)\n",
      ")\n"
     ]
    }
   ],
   "source": [
    "model = LSTM()\n",
    "loss_function = nn.MSELoss()\n",
    "optimizer = torch.optim.Adam(model.parameters(), lr=0.001)\n",
    "print(model)"
   ]
  },
  {
   "cell_type": "code",
   "execution_count": 16,
   "metadata": {},
   "outputs": [
    {
     "name": "stdout",
     "output_type": "stream",
     "text": [
      "epoch:   1 loss: 0.00001074\n",
      "epoch:  26 loss: 0.00000076\n",
      "epoch:  51 loss: 0.00000013\n",
      "epoch:  76 loss: 0.00000056\n",
      "epoch: 101 loss: 0.00000058\n",
      "epoch: 126 loss: 0.00000045\n",
      "epoch: 151 loss: 0.00000152\n",
      "epoch: 176 loss: 0.00000086\n",
      "epoch: 199 loss: 0.0000004501\n"
     ]
    }
   ],
   "source": [
    "'''\n",
    "Training the Model\n",
    "\n",
    "train model for 150 epochs. Loss printed every 25 epochs\n",
    "'''\n",
    "epochs = 200\n",
    "\n",
    "for i in range(epochs):\n",
    "    for seq, labels in train_inout_seq:\n",
    "        optimizer.zero_grad()\n",
    "        model.hidden_cell = (torch.zeros(1, 1, model.hidden_layer_size),\n",
    "                        torch.zeros(1, 1, model.hidden_layer_size))\n",
    "\n",
    "        y_pred = model(seq)\n",
    "\n",
    "        single_loss = loss_function(y_pred, labels)\n",
    "        single_loss.backward()\n",
    "        optimizer.step()\n",
    "\n",
    "    if i%25 == 1:\n",
    "        print(f'epoch: {i:3} loss: {single_loss.item():10.8f}')\n",
    "\n",
    "print(f'epoch: {i:3} loss: {single_loss.item():10.10f}')"
   ]
  },
  {
   "cell_type": "markdown",
   "metadata": {},
   "source": [
    "## 3. Making Predictions\n",
    "Predict last 12 dates"
   ]
  },
  {
   "cell_type": "code",
   "execution_count": 17,
   "metadata": {},
   "outputs": [
    {
     "name": "stdout",
     "output_type": "stream",
     "text": [
      "[-0.21593248844146729, -0.21593248844146729, -0.21593248844146729, -0.21593248844146729, -0.21593248844146729, -0.21593248844146729, -0.21593248844146729, -0.21593248844146729, -0.21593248844146729, -0.2172551453113556, -0.2172551453113556, -0.2172551453113556]\n"
     ]
    }
   ],
   "source": [
    "#filter out last 12 values of test set \n",
    "fut_pred = 12\n",
    "\n",
    "test_inputs = train_data_normalized[-train_window:].tolist()\n",
    "print(test_inputs)"
   ]
  },
  {
   "cell_type": "code",
   "execution_count": 18,
   "metadata": {},
   "outputs": [
    {
     "data": {
      "text/plain": [
       "[-0.21843309700489044,\n",
       " -0.2198633998632431,\n",
       " -0.22151288390159607,\n",
       " -0.22271688282489777,\n",
       " -0.22375252842903137,\n",
       " -0.2246558517217636,\n",
       " -0.2254381775856018,\n",
       " -0.22609363496303558,\n",
       " -0.2266215682029724,\n",
       " -0.22703830897808075,\n",
       " -0.22736695408821106,\n",
       " -0.22762064635753632]"
      ]
     },
     "execution_count": 18,
     "metadata": {},
     "output_type": "execute_result"
    }
   ],
   "source": [
    "model.eval()\n",
    "\n",
    "for i in range(fut_pred):\n",
    "    seq = torch.FloatTensor(test_inputs[-train_window:])\n",
    "    with torch.no_grad():\n",
    "        model.hidden = (torch.zeros(1, 1, model.hidden_layer_size),\n",
    "                        torch.zeros(1, 1, model.hidden_layer_size))\n",
    "        test_inputs.append(model(seq).item())\n",
    "\n",
    "test_inputs[fut_pred:]"
   ]
  },
  {
   "cell_type": "code",
   "execution_count": 19,
   "metadata": {},
   "outputs": [
    {
     "name": "stdout",
     "output_type": "stream",
     "text": [
      "[[104.69778698]\n",
      " [104.50618529]\n",
      " [104.28522234]\n",
      " [104.12393605]\n",
      " [103.98520218]\n",
      " [103.86419405]\n",
      " [103.75939459]\n",
      " [103.67159029]\n",
      " [103.60086897]\n",
      " [103.54504286]\n",
      " [103.50101795]\n",
      " [103.46703363]]\n"
     ]
    }
   ],
   "source": [
    "# Convert normalized to actual values\n",
    "predictions = scaler.inverse_transform(np.array(test_inputs[train_window:] ).reshape(-1, 1))\n",
    "print(predictions)"
   ]
  },
  {
   "cell_type": "code",
   "execution_count": 20,
   "metadata": {},
   "outputs": [
    {
     "name": "stderr",
     "output_type": "stream",
     "text": [
      "/Users/l9mendoza/opt/anaconda3/lib/python3.7/site-packages/ipykernel_launcher.py:2: SettingWithCopyWarning: \n",
      "A value is trying to be set on a copy of a slice from a DataFrame.\n",
      "Try using .loc[row_indexer,col_indexer] = value instead\n",
      "\n",
      "See the caveats in the documentation: https://pandas.pydata.org/pandas-docs/stable/user_guide/indexing.html#returning-a-view-versus-a-copy\n",
      "  \n"
     ]
    },
    {
     "data": {
      "text/html": [
       "<div>\n",
       "<style scoped>\n",
       "    .dataframe tbody tr th:only-of-type {\n",
       "        vertical-align: middle;\n",
       "    }\n",
       "\n",
       "    .dataframe tbody tr th {\n",
       "        vertical-align: top;\n",
       "    }\n",
       "\n",
       "    .dataframe thead th {\n",
       "        text-align: right;\n",
       "    }\n",
       "</style>\n",
       "<table border=\"1\" class=\"dataframe\">\n",
       "  <thead>\n",
       "    <tr style=\"text-align: right;\">\n",
       "      <th></th>\n",
       "      <th>Project_Statistic_Date</th>\n",
       "      <th>Project_Task_Closed_Est_Act_V1</th>\n",
       "      <th>predictions</th>\n",
       "    </tr>\n",
       "  </thead>\n",
       "  <tbody>\n",
       "    <tr>\n",
       "      <th>135428</th>\n",
       "      <td>2020-02-22</td>\n",
       "      <td>104.855584</td>\n",
       "      <td>104.697787</td>\n",
       "    </tr>\n",
       "    <tr>\n",
       "      <th>135435</th>\n",
       "      <td>2020-02-23</td>\n",
       "      <td>104.855584</td>\n",
       "      <td>104.506185</td>\n",
       "    </tr>\n",
       "    <tr>\n",
       "      <th>135356</th>\n",
       "      <td>2020-02-24</td>\n",
       "      <td>104.855584</td>\n",
       "      <td>104.285222</td>\n",
       "    </tr>\n",
       "    <tr>\n",
       "      <th>135491</th>\n",
       "      <td>2020-02-25</td>\n",
       "      <td>104.855584</td>\n",
       "      <td>104.123936</td>\n",
       "    </tr>\n",
       "    <tr>\n",
       "      <th>135498</th>\n",
       "      <td>2020-02-26</td>\n",
       "      <td>104.855584</td>\n",
       "      <td>103.985202</td>\n",
       "    </tr>\n",
       "    <tr>\n",
       "      <th>135495</th>\n",
       "      <td>2020-02-27</td>\n",
       "      <td>104.855584</td>\n",
       "      <td>103.864194</td>\n",
       "    </tr>\n",
       "    <tr>\n",
       "      <th>135358</th>\n",
       "      <td>2020-02-28</td>\n",
       "      <td>104.855584</td>\n",
       "      <td>103.759395</td>\n",
       "    </tr>\n",
       "    <tr>\n",
       "      <th>135351</th>\n",
       "      <td>2020-02-29</td>\n",
       "      <td>104.855584</td>\n",
       "      <td>103.671590</td>\n",
       "    </tr>\n",
       "    <tr>\n",
       "      <th>135438</th>\n",
       "      <td>2020-03-01</td>\n",
       "      <td>104.855584</td>\n",
       "      <td>103.600869</td>\n",
       "    </tr>\n",
       "    <tr>\n",
       "      <th>135488</th>\n",
       "      <td>2020-03-02</td>\n",
       "      <td>104.855584</td>\n",
       "      <td>103.545043</td>\n",
       "    </tr>\n",
       "    <tr>\n",
       "      <th>135352</th>\n",
       "      <td>2020-03-03</td>\n",
       "      <td>104.855584</td>\n",
       "      <td>103.501018</td>\n",
       "    </tr>\n",
       "    <tr>\n",
       "      <th>135479</th>\n",
       "      <td>2020-03-04</td>\n",
       "      <td>104.855584</td>\n",
       "      <td>103.467034</td>\n",
       "    </tr>\n",
       "  </tbody>\n",
       "</table>\n",
       "</div>"
      ],
      "text/plain": [
       "       Project_Statistic_Date  Project_Task_Closed_Est_Act_V1  predictions\n",
       "135428             2020-02-22                      104.855584   104.697787\n",
       "135435             2020-02-23                      104.855584   104.506185\n",
       "135356             2020-02-24                      104.855584   104.285222\n",
       "135491             2020-02-25                      104.855584   104.123936\n",
       "135498             2020-02-26                      104.855584   103.985202\n",
       "135495             2020-02-27                      104.855584   103.864194\n",
       "135358             2020-02-28                      104.855584   103.759395\n",
       "135351             2020-02-29                      104.855584   103.671590\n",
       "135438             2020-03-01                      104.855584   103.600869\n",
       "135488             2020-03-02                      104.855584   103.545043\n",
       "135352             2020-03-03                      104.855584   103.501018\n",
       "135479             2020-03-04                      104.855584   103.467034"
      ]
     },
     "execution_count": 20,
     "metadata": {},
     "output_type": "execute_result"
    }
   ],
   "source": [
    "results = V1_df.tail(12)\n",
    "results['predictions']= predictions\n",
    "results"
   ]
  },
  {
   "cell_type": "code",
   "execution_count": 21,
   "metadata": {},
   "outputs": [
    {
     "data": {
      "image/png": "[encoded data removed]",
      "text/plain": [
       "<Figure size 2880x1080 with 1 Axes>"
      ]
     },
     "metadata": {},
     "output_type": "display_data"
    }
   ],
   "source": [
    "plt.figure(1, figsize=(40, 15))\n",
    "plt.plot_date(x=results[\"Project_Statistic_Date\"], y=results[\"predictions\"],fmt=\"r-\", color = 'green')\n",
    "plt.plot_date(x=V1_df[\"Project_Statistic_Date\"], y=V1_df[\"Project_Task_Closed_Est_Act_V1\"],fmt=\"r-\")\n",
    "plt.title(\"V1 by Project Statistic Date\")\n",
    "plt.xlabel(\"Project Statistic Date\")\n",
    "plt.ylabel(\"V1 Score\")\n",
    "plt.grid(True)\n",
    "plt.show()"
   ]
  },
  {
   "cell_type": "code",
   "execution_count": 22,
   "metadata": {},
   "outputs": [
    {
     "data": {
      "image/png": "[encoded data removed]",
      "text/plain": [
       "<Figure size 1080x360 with 1 Axes>"
      ]
     },
     "metadata": {},
     "output_type": "display_data"
    }
   ],
   "source": [
    "#Plot only test set\n",
    "plt.figure(1, figsize=(15,5))\n",
    "plt.plot_date(x=results[\"Project_Statistic_Date\"], y=results[\"Project_Task_Closed_Est_Act_V1\"],fmt=\"r-\")\n",
    "plt.plot_date(x=results[\"Project_Statistic_Date\"], y=results[\"predictions\"],fmt=\"r-\", color = 'green')\n",
    "plt.title(\"V1 by Project Statistic Date\")\n",
    "plt.xlabel(\"Project Statistic Date\")\n",
    "plt.ylabel(\"V1 Score\")\n",
    "plt.grid(True)\n",
    "plt.show()"
   ]
  }
 ],
 "metadata": {
  "kernelspec": {
   "display_name": "Python 3",
   "language": "python",
   "name": "python3"
  },
  "language_info": {
   "codemirror_mode": {
    "name": "ipython",
    "version": 3
   },
   "file_extension": ".py",
   "mimetype": "text/x-python",
   "name": "python",
   "nbconvert_exporter": "python",
   "pygments_lexer": "ipython3",
   "version": "3.7.6"
  }
 },
 "nbformat": 4,
 "nbformat_minor": 4
}
